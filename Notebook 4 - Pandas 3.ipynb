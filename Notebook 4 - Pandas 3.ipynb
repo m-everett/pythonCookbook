{
 "cells": [
  {
   "cell_type": "markdown",
   "metadata": {},
   "source": [
    "## For Notebook 4, repeat all the steps in Notebook 3 using the Prostate data set. The target is LPSA (log PSA test results)."
   ]
  },
  {
   "cell_type": "markdown",
   "metadata": {},
   "source": [
    "Like in Notebook 3, I will load the packages I know I will need and read in my dataframe:"
   ]
  },
  {
   "cell_type": "code",
   "execution_count": 1,
   "metadata": {},
   "outputs": [],
   "source": [
    "%matplotlib inline \n",
    "import numpy as np\n",
    "import matplotlib.pyplot as plt\n",
    "import pandas as pd\n",
    "import os as os\n",
    "\n",
    "#From Scikit Learn\n",
    "from sklearn import preprocessing\n",
    "from sklearn.model_selection  import train_test_split, cross_val_score, KFold\n",
    "from sklearn.model_selection import GridSearchCV\n",
    "from sklearn.metrics import accuracy_score, precision_score, recall_score, f1_score\n",
    "from sklearn.metrics import roc_curve, auc, confusion_matrix, classification_report, r2_score, mean_squared_error,mean_absolute_error"
   ]
  },
  {
   "cell_type": "code",
   "execution_count": 2,
   "metadata": {},
   "outputs": [
    {
     "name": "stdout",
     "output_type": "stream",
     "text": [
      "C:\\Users\\Tyler\\Desktop\\Katie\\Predictive Models (Spring B 2019)\n"
     ]
    }
   ],
   "source": [
    "cd /Users/Tyler/Desktop/Katie/Predictive Models (Spring B 2019)/"
   ]
  },
  {
   "cell_type": "code",
   "execution_count": 5,
   "metadata": {},
   "outputs": [],
   "source": [
    "Prostate=pd.read_csv(\"prostate.csv\")\n",
    "#Prostate"
   ]
  },
  {
   "cell_type": "markdown",
   "metadata": {},
   "source": [
    "Setting my target variable:"
   ]
  },
  {
   "cell_type": "code",
   "execution_count": 7,
   "metadata": {},
   "outputs": [
    {
     "data": {
      "text/html": [
       "<div>\n",
       "<style scoped>\n",
       "    .dataframe tbody tr th:only-of-type {\n",
       "        vertical-align: middle;\n",
       "    }\n",
       "\n",
       "    .dataframe tbody tr th {\n",
       "        vertical-align: top;\n",
       "    }\n",
       "\n",
       "    .dataframe thead th {\n",
       "        text-align: right;\n",
       "    }\n",
       "</style>\n",
       "<table border=\"1\" class=\"dataframe\">\n",
       "  <thead>\n",
       "    <tr style=\"text-align: right;\">\n",
       "      <th></th>\n",
       "      <th>lpsa</th>\n",
       "      <th>lcavol</th>\n",
       "      <th>lweight</th>\n",
       "      <th>age</th>\n",
       "      <th>lbph</th>\n",
       "      <th>svi</th>\n",
       "      <th>lcp</th>\n",
       "      <th>gleason</th>\n",
       "      <th>pgg45</th>\n",
       "    </tr>\n",
       "  </thead>\n",
       "  <tbody>\n",
       "    <tr>\n",
       "      <th>0</th>\n",
       "      <td>-0.430783</td>\n",
       "      <td>-0.579818</td>\n",
       "      <td>2.769459</td>\n",
       "      <td>50</td>\n",
       "      <td>-1.386294</td>\n",
       "      <td>0</td>\n",
       "      <td>-1.386294</td>\n",
       "      <td>6</td>\n",
       "      <td>0</td>\n",
       "    </tr>\n",
       "    <tr>\n",
       "      <th>1</th>\n",
       "      <td>-0.162519</td>\n",
       "      <td>-0.994252</td>\n",
       "      <td>3.319626</td>\n",
       "      <td>58</td>\n",
       "      <td>-1.386294</td>\n",
       "      <td>0</td>\n",
       "      <td>-1.386294</td>\n",
       "      <td>6</td>\n",
       "      <td>0</td>\n",
       "    </tr>\n",
       "    <tr>\n",
       "      <th>2</th>\n",
       "      <td>-0.162519</td>\n",
       "      <td>-0.510826</td>\n",
       "      <td>2.691243</td>\n",
       "      <td>74</td>\n",
       "      <td>-1.386294</td>\n",
       "      <td>0</td>\n",
       "      <td>-1.386294</td>\n",
       "      <td>7</td>\n",
       "      <td>20</td>\n",
       "    </tr>\n",
       "    <tr>\n",
       "      <th>3</th>\n",
       "      <td>-0.162519</td>\n",
       "      <td>-1.203973</td>\n",
       "      <td>3.282789</td>\n",
       "      <td>58</td>\n",
       "      <td>-1.386294</td>\n",
       "      <td>0</td>\n",
       "      <td>-1.386294</td>\n",
       "      <td>6</td>\n",
       "      <td>0</td>\n",
       "    </tr>\n",
       "    <tr>\n",
       "      <th>4</th>\n",
       "      <td>0.371564</td>\n",
       "      <td>0.751416</td>\n",
       "      <td>3.432373</td>\n",
       "      <td>62</td>\n",
       "      <td>-1.386294</td>\n",
       "      <td>0</td>\n",
       "      <td>-1.386294</td>\n",
       "      <td>6</td>\n",
       "      <td>0</td>\n",
       "    </tr>\n",
       "    <tr>\n",
       "      <th>5</th>\n",
       "      <td>0.765468</td>\n",
       "      <td>-1.049822</td>\n",
       "      <td>3.228826</td>\n",
       "      <td>50</td>\n",
       "      <td>-1.386294</td>\n",
       "      <td>0</td>\n",
       "      <td>-1.386294</td>\n",
       "      <td>6</td>\n",
       "      <td>0</td>\n",
       "    </tr>\n",
       "    <tr>\n",
       "      <th>6</th>\n",
       "      <td>0.765468</td>\n",
       "      <td>0.737164</td>\n",
       "      <td>3.473518</td>\n",
       "      <td>64</td>\n",
       "      <td>0.615186</td>\n",
       "      <td>0</td>\n",
       "      <td>-1.386294</td>\n",
       "      <td>6</td>\n",
       "      <td>0</td>\n",
       "    </tr>\n",
       "    <tr>\n",
       "      <th>7</th>\n",
       "      <td>0.854415</td>\n",
       "      <td>0.693147</td>\n",
       "      <td>3.539509</td>\n",
       "      <td>58</td>\n",
       "      <td>1.536867</td>\n",
       "      <td>0</td>\n",
       "      <td>-1.386294</td>\n",
       "      <td>6</td>\n",
       "      <td>0</td>\n",
       "    </tr>\n",
       "    <tr>\n",
       "      <th>8</th>\n",
       "      <td>1.047319</td>\n",
       "      <td>-0.776529</td>\n",
       "      <td>3.539509</td>\n",
       "      <td>47</td>\n",
       "      <td>-1.386294</td>\n",
       "      <td>0</td>\n",
       "      <td>-1.386294</td>\n",
       "      <td>6</td>\n",
       "      <td>0</td>\n",
       "    </tr>\n",
       "    <tr>\n",
       "      <th>9</th>\n",
       "      <td>1.047319</td>\n",
       "      <td>0.223144</td>\n",
       "      <td>3.244544</td>\n",
       "      <td>63</td>\n",
       "      <td>-1.386294</td>\n",
       "      <td>0</td>\n",
       "      <td>-1.386294</td>\n",
       "      <td>6</td>\n",
       "      <td>0</td>\n",
       "    </tr>\n",
       "  </tbody>\n",
       "</table>\n",
       "</div>"
      ],
      "text/plain": [
       "       lpsa    lcavol   lweight  age      lbph  svi       lcp  gleason  pgg45\n",
       "0 -0.430783 -0.579818  2.769459   50 -1.386294    0 -1.386294        6      0\n",
       "1 -0.162519 -0.994252  3.319626   58 -1.386294    0 -1.386294        6      0\n",
       "2 -0.162519 -0.510826  2.691243   74 -1.386294    0 -1.386294        7     20\n",
       "3 -0.162519 -1.203973  3.282789   58 -1.386294    0 -1.386294        6      0\n",
       "4  0.371564  0.751416  3.432373   62 -1.386294    0 -1.386294        6      0\n",
       "5  0.765468 -1.049822  3.228826   50 -1.386294    0 -1.386294        6      0\n",
       "6  0.765468  0.737164  3.473518   64  0.615186    0 -1.386294        6      0\n",
       "7  0.854415  0.693147  3.539509   58  1.536867    0 -1.386294        6      0\n",
       "8  1.047319 -0.776529  3.539509   47 -1.386294    0 -1.386294        6      0\n",
       "9  1.047319  0.223144  3.244544   63 -1.386294    0 -1.386294        6      0"
      ]
     },
     "execution_count": 7,
     "metadata": {},
     "output_type": "execute_result"
    }
   ],
   "source": [
    "targetName = 'lpsa'\n",
    "targetSeries = Prostate[targetName]\n",
    "\n",
    "del Prostate[targetName]\n",
    "Prostate.insert(0, targetName, targetSeries)\n",
    "\n",
    "Prostate.head(10)"
   ]
  },
  {
   "cell_type": "markdown",
   "metadata": {},
   "source": [
    "Some more EDA and preprocessing:"
   ]
  },
  {
   "cell_type": "code",
   "execution_count": 9,
   "metadata": {},
   "outputs": [],
   "source": [
    "Prostate=Prostate.apply(pd.to_numeric,errors='coerce')"
   ]
  },
  {
   "cell_type": "code",
   "execution_count": 10,
   "metadata": {},
   "outputs": [],
   "source": [
    "Prostate = Prostate.fillna(Prostate.mean())"
   ]
  },
  {
   "cell_type": "code",
   "execution_count": 11,
   "metadata": {},
   "outputs": [
    {
     "data": {
      "text/plain": [
       "(97, 9)"
      ]
     },
     "execution_count": 11,
     "metadata": {},
     "output_type": "execute_result"
    }
   ],
   "source": [
    "Prostate.shape"
   ]
  },
  {
   "cell_type": "code",
   "execution_count": 12,
   "metadata": {},
   "outputs": [
    {
     "data": {
      "text/plain": [
       "lpsa       float64\n",
       "lcavol     float64\n",
       "lweight    float64\n",
       "age          int64\n",
       "lbph       float64\n",
       "svi          int64\n",
       "lcp        float64\n",
       "gleason      int64\n",
       "pgg45        int64\n",
       "dtype: object"
      ]
     },
     "execution_count": 12,
     "metadata": {},
     "output_type": "execute_result"
    }
   ],
   "source": [
    "Prostate.dtypes"
   ]
  },
  {
   "cell_type": "code",
   "execution_count": 13,
   "metadata": {},
   "outputs": [],
   "source": [
    "Prostate[\"age\"] = Prostate[\"age\"].astype('float')\n",
    "Prostate[\"svi\"] = Prostate[\"svi\"].astype('float')\n",
    "Prostate[\"gleason\"] = Prostate[\"gleason\"].astype('float')\n",
    "Prostate[\"pgg45\"] = Prostate[\"pgg45\"].astype('float')"
   ]
  },
  {
   "cell_type": "code",
   "execution_count": 14,
   "metadata": {},
   "outputs": [
    {
     "data": {
      "text/plain": [
       "lpsa       float64\n",
       "lcavol     float64\n",
       "lweight    float64\n",
       "age        float64\n",
       "lbph       float64\n",
       "svi        float64\n",
       "lcp        float64\n",
       "gleason    float64\n",
       "pgg45      float64\n",
       "dtype: object"
      ]
     },
     "execution_count": 14,
     "metadata": {},
     "output_type": "execute_result"
    }
   ],
   "source": [
    "Prostate.dtypes"
   ]
  },
  {
   "cell_type": "markdown",
   "metadata": {},
   "source": [
    "Creating my training and validation sets on a 70/30 split:"
   ]
  },
  {
   "cell_type": "code",
   "execution_count": 18,
   "metadata": {},
   "outputs": [],
   "source": [
    "features_train, features_test, target_train, target_test = train_test_split(\n",
    "    Prostate.iloc[:,1:].values, Prostate.iloc[:,0].values, test_size=0.30, random_state=0)"
   ]
  },
  {
   "cell_type": "code",
   "execution_count": 19,
   "metadata": {},
   "outputs": [
    {
     "name": "stdout",
     "output_type": "stream",
     "text": [
      "(30, 8)\n",
      "(67, 8)\n",
      "(30,)\n",
      "(67,)\n"
     ]
    }
   ],
   "source": [
    "print(features_test.shape)\n",
    "print(features_train.shape)\n",
    "print(target_test.shape)\n",
    "print(target_train.shape)"
   ]
  },
  {
   "cell_type": "code",
   "execution_count": 20,
   "metadata": {},
   "outputs": [
    {
     "name": "stdout",
     "output_type": "stream",
     "text": [
      "(97,)\n",
      "(97, 8)\n"
     ]
    }
   ],
   "source": [
    "Prostate_target=Prostate['lpsa']\n",
    "Prostate_features=Prostate.drop(['lpsa'],axis=1)\n",
    "print(Prostate_target.shape)\n",
    "print(Prostate_features.shape)"
   ]
  },
  {
   "cell_type": "markdown",
   "metadata": {},
   "source": [
    "Now I'm going to move onto my four models, and interpret the results at the very end:"
   ]
  },
  {
   "cell_type": "markdown",
   "metadata": {},
   "source": [
    "### Ridge Regression:"
   ]
  },
  {
   "cell_type": "code",
   "execution_count": 21,
   "metadata": {},
   "outputs": [
    {
     "name": "stdout",
     "output_type": "stream",
     "text": [
      "Ridge(alpha=20, copy_X=True, fit_intercept=True, max_iter=None,\n",
      "   normalize=False, random_state=None, solver='auto', tol=0.001)\n"
     ]
    }
   ],
   "source": [
    "from sklearn.linear_model import Ridge\n",
    "import os as os\n",
    "from sklearn.metrics import mean_squared_error\n",
    "\n",
    "model_RG = Ridge(alpha=20)\n",
    "model_RG.fit(Prostate_features, Prostate_target)\n",
    "print(model_RG)"
   ]
  },
  {
   "cell_type": "code",
   "execution_count": 22,
   "metadata": {},
   "outputs": [
    {
     "name": "stdout",
     "output_type": "stream",
     "text": [
      "Coef 1.4168580237699806 [ 0.49621173  0.25286363 -0.01206267  0.10413618  0.25737178  0.0460034\n",
      "  0.00794865  0.00520101]\n",
      "MSE 0.5007958923848376\n",
      "R-squared 0.6202463220570023\n",
      "MAE: 0.5495089598023396\n"
     ]
    }
   ],
   "source": [
    "expected_RG = Prostate_target\n",
    "predicted_RG= model_RG.predict(Prostate_features)\n",
    "\n",
    "print(\"Coef\", model_RG.intercept_, model_RG.coef_)\n",
    "print(\"MSE\", mean_squared_error(expected_RG, predicted_RG))\n",
    "print(\"R-squared\", r2_score(expected_RG, predicted_RG))\n",
    "print(\"MAE:\", mean_absolute_error(expected_RG, predicted_RG))"
   ]
  },
  {
   "cell_type": "code",
   "execution_count": 23,
   "metadata": {},
   "outputs": [
    {
     "data": {
      "text/html": [
       "<div>\n",
       "<style scoped>\n",
       "    .dataframe tbody tr th:only-of-type {\n",
       "        vertical-align: middle;\n",
       "    }\n",
       "\n",
       "    .dataframe tbody tr th {\n",
       "        vertical-align: top;\n",
       "    }\n",
       "\n",
       "    .dataframe thead th {\n",
       "        text-align: right;\n",
       "    }\n",
       "</style>\n",
       "<table border=\"1\" class=\"dataframe\">\n",
       "  <thead>\n",
       "    <tr style=\"text-align: right;\">\n",
       "      <th></th>\n",
       "      <th>0</th>\n",
       "    </tr>\n",
       "  </thead>\n",
       "  <tbody>\n",
       "    <tr>\n",
       "      <th>0</th>\n",
       "      <td>0.496212</td>\n",
       "    </tr>\n",
       "    <tr>\n",
       "      <th>1</th>\n",
       "      <td>0.252864</td>\n",
       "    </tr>\n",
       "    <tr>\n",
       "      <th>2</th>\n",
       "      <td>-0.012063</td>\n",
       "    </tr>\n",
       "    <tr>\n",
       "      <th>3</th>\n",
       "      <td>0.104136</td>\n",
       "    </tr>\n",
       "    <tr>\n",
       "      <th>4</th>\n",
       "      <td>0.257372</td>\n",
       "    </tr>\n",
       "    <tr>\n",
       "      <th>5</th>\n",
       "      <td>0.046003</td>\n",
       "    </tr>\n",
       "    <tr>\n",
       "      <th>6</th>\n",
       "      <td>0.007949</td>\n",
       "    </tr>\n",
       "    <tr>\n",
       "      <th>7</th>\n",
       "      <td>0.005201</td>\n",
       "    </tr>\n",
       "  </tbody>\n",
       "</table>\n",
       "</div>"
      ],
      "text/plain": [
       "          0\n",
       "0  0.496212\n",
       "1  0.252864\n",
       "2 -0.012063\n",
       "3  0.104136\n",
       "4  0.257372\n",
       "5  0.046003\n",
       "6  0.007949\n",
       "7  0.005201"
      ]
     },
     "execution_count": 23,
     "metadata": {},
     "output_type": "execute_result"
    }
   ],
   "source": [
    "pd.DataFrame(np.transpose(model_RG.coef_))"
   ]
  },
  {
   "cell_type": "code",
   "execution_count": 25,
   "metadata": {},
   "outputs": [
    {
     "name": "stdout",
     "output_type": "stream",
     "text": [
      "Best {'alpha': 10}\n"
     ]
    },
    {
     "name": "stderr",
     "output_type": "stream",
     "text": [
      "C:\\Users\\Tyler\\Anaconda3\\lib\\site-packages\\sklearn\\model_selection\\_search.py:841: DeprecationWarning: The default of the `iid` parameter will change from True to False in version 0.22 and will be removed in 0.24. This will change numeric results when test-set sizes are unequal.\n",
      "  DeprecationWarning)\n"
     ]
    }
   ],
   "source": [
    "param_grid = dict(alpha=[0.01,2,5,10,100]) \n",
    "\n",
    "grid_search = GridSearchCV(model_RG, param_grid=param_grid,n_jobs=-1,cv=5) ## Cross validates the model 5 times ##\n",
    "grid_search.fit(Prostate_features, Prostate_target)\n",
    "\n",
    "#print(\"Grid Scores\", grid_search.cv_results_)\n",
    "print(\"Best\", grid_search.best_params_)   "
   ]
  },
  {
   "cell_type": "code",
   "execution_count": 26,
   "metadata": {},
   "outputs": [
    {
     "name": "stdout",
     "output_type": "stream",
     "text": [
      "Best {'alpha': 5}\n"
     ]
    },
    {
     "name": "stderr",
     "output_type": "stream",
     "text": [
      "C:\\Users\\Tyler\\Anaconda3\\lib\\site-packages\\sklearn\\model_selection\\_search.py:841: DeprecationWarning: The default of the `iid` parameter will change from True to False in version 0.22 and will be removed in 0.24. This will change numeric results when test-set sizes are unequal.\n",
      "  DeprecationWarning)\n"
     ]
    }
   ],
   "source": [
    "param_grid = dict(alpha=[0.01,0.1,5,0.5])\n",
    "\n",
    "grid_search = GridSearchCV(model_RG, param_grid=param_grid,n_jobs=-1,cv=5)\n",
    "grid_search.fit(Prostate_features, Prostate_target)\n",
    "\n",
    "#print(\"Grid Scores\", grid_search.cv_results_)\n",
    "print(\"Best\", grid_search.best_params_) "
   ]
  },
  {
   "cell_type": "code",
   "execution_count": 27,
   "metadata": {},
   "outputs": [
    {
     "name": "stdout",
     "output_type": "stream",
     "text": [
      "Best {'alpha': 9.99}\n"
     ]
    },
    {
     "name": "stderr",
     "output_type": "stream",
     "text": [
      "C:\\Users\\Tyler\\Anaconda3\\lib\\site-packages\\sklearn\\model_selection\\_search.py:841: DeprecationWarning: The default of the `iid` parameter will change from True to False in version 0.22 and will be removed in 0.24. This will change numeric results when test-set sizes are unequal.\n",
      "  DeprecationWarning)\n"
     ]
    }
   ],
   "source": [
    "range=list(np.arange(0.01,10,0.01))\n",
    "param_grid = dict(alpha=range)\n",
    "\n",
    "grid_search = GridSearchCV(model_RG, param_grid=param_grid,n_jobs=-1,cv=5)\n",
    "grid_search.fit(Prostate_features, Prostate_target)\n",
    "\n",
    "#print(\"Grid Scores\", grid_search.cv_results_)\n",
    "print(\"Best\", grid_search.best_params_)  "
   ]
  },
  {
   "cell_type": "code",
   "execution_count": 28,
   "metadata": {},
   "outputs": [
    {
     "name": "stdout",
     "output_type": "stream",
     "text": [
      "Ridge(alpha=9.99, copy_X=True, fit_intercept=True, max_iter=None,\n",
      "   normalize=False, random_state=None, solver='auto', tol=0.001)\n",
      "Coef 1.2269472646607766 [ 0.54229451  0.32262716 -0.01486566  0.10552091  0.37322267  0.00214884\n",
      "  0.01134252  0.0050323 ]\n",
      "MSE 0.477311530744281\n",
      "R-squared 0.638054520651993\n",
      "MAE: 0.5331955781293747\n"
     ]
    }
   ],
   "source": [
    "model_RG_tuned = Ridge(alpha=9.99)\n",
    "model_RG_tuned.fit(Prostate_features, Prostate_target)\n",
    "print(model_RG_tuned)\n",
    "\n",
    "expected_RG_tuned = Prostate_target\n",
    "predicted_RG_tuned= model_RG_tuned.predict(Prostate_features)\n",
    "\n",
    "print(\"Coef\", model_RG_tuned.intercept_, model_RG_tuned.coef_)\n",
    "print(\"MSE\", mean_squared_error(expected_RG_tuned, predicted_RG_tuned))\n",
    "print(\"R-squared\", r2_score(expected_RG_tuned, predicted_RG_tuned))\n",
    "print(\"MAE:\", mean_absolute_error(expected_RG_tuned, predicted_RG_tuned))"
   ]
  },
  {
   "cell_type": "code",
   "execution_count": 29,
   "metadata": {},
   "outputs": [
    {
     "name": "stdout",
     "output_type": "stream",
     "text": [
      "Cross Validation Score for each K [0.72722784 0.29595022 0.59140579 0.24705661 0.60088974]\n"
     ]
    },
    {
     "data": {
      "text/plain": [
       "0.4925060387076006"
      ]
     },
     "execution_count": 29,
     "metadata": {},
     "output_type": "execute_result"
    }
   ],
   "source": [
    "scores = cross_val_score(model_RG_tuned, features_train, target_train, cv=5)\n",
    "print(\"Cross Validation Score for each K\",scores)\n",
    "scores.mean()  "
   ]
  },
  {
   "cell_type": "markdown",
   "metadata": {},
   "source": [
    "### LASSO Regression:"
   ]
  },
  {
   "cell_type": "code",
   "execution_count": 31,
   "metadata": {},
   "outputs": [
    {
     "name": "stdout",
     "output_type": "stream",
     "text": [
      "Lasso(alpha=0.1, copy_X=True, fit_intercept=True, max_iter=1000,\n",
      "   normalize=False, positive=False, precompute=False, random_state=None,\n",
      "   selection='cyclic', tol=0.0001, warm_start=False)\n"
     ]
    }
   ],
   "source": [
    "from sklearn.linear_model import Lasso\n",
    "\n",
    "model_LAS = Lasso(alpha=0.1)\n",
    "model_LAS.fit(Prostate_features, Prostate_target)\n",
    "print(model_LAS)"
   ]
  },
  {
   "cell_type": "code",
   "execution_count": 32,
   "metadata": {},
   "outputs": [
    {
     "name": "stdout",
     "output_type": "stream",
     "text": [
      "Coef 1.6699333664535907 [ 0.57700424  0.06179715 -0.00577247  0.07308461  0.          0.\n",
      " -0.          0.00677141]\n",
      "MSE 0.5576559643302158\n",
      "R-squared 0.5771293121579517\n",
      "MAE: 0.5726483342936962\n"
     ]
    }
   ],
   "source": [
    "expected_LAS = Prostate_target\n",
    "predicted_LAS = model_LAS.predict(Prostate_features)\n",
    "\n",
    "print(\"Coef\", model_LAS.intercept_,model_LAS.coef_)\n",
    "print(\"MSE\", mean_squared_error(expected_LAS, predicted_LAS))\n",
    "print(\"R-squared\", r2_score(expected_LAS, predicted_LAS))\n",
    "print(\"MAE:\", mean_absolute_error(expected_LAS, predicted_LAS))"
   ]
  },
  {
   "cell_type": "code",
   "execution_count": 33,
   "metadata": {},
   "outputs": [
    {
     "name": "stdout",
     "output_type": "stream",
     "text": [
      "Best {'alpha': 0.21000000000000002}\n"
     ]
    },
    {
     "name": "stderr",
     "output_type": "stream",
     "text": [
      "C:\\Users\\Tyler\\Anaconda3\\lib\\site-packages\\sklearn\\model_selection\\_search.py:841: DeprecationWarning: The default of the `iid` parameter will change from True to False in version 0.22 and will be removed in 0.24. This will change numeric results when test-set sizes are unequal.\n",
      "  DeprecationWarning)\n"
     ]
    }
   ],
   "source": [
    "range=list(np.arange(0.01,2,0.01))\n",
    "param_grid = dict(alpha=range)\n",
    "\n",
    "grid_search = GridSearchCV(model_LAS, param_grid=param_grid,n_jobs=-1,cv=5)\n",
    "grid_search.fit(Prostate_features, Prostate_target)\n",
    "print(\"Best\", grid_search.best_params_)  "
   ]
  },
  {
   "cell_type": "code",
   "execution_count": 34,
   "metadata": {},
   "outputs": [
    {
     "name": "stdout",
     "output_type": "stream",
     "text": [
      "Lasso(alpha=0.21, copy_X=True, fit_intercept=True, max_iter=1000,\n",
      "   normalize=False, positive=False, precompute=False, random_state=None,\n",
      "   selection='cyclic', tol=0.0001, warm_start=False)\n",
      "Coef 1.6270564559096594 [ 0.48050171  0.         -0.          0.01902194  0.          0.\n",
      "  0.          0.00823329]\n",
      "MSE 0.6192191057358085\n",
      "R-squared 0.5304459632527391\n",
      "MAE: 0.6059526716270308\n"
     ]
    }
   ],
   "source": [
    "model_LAS_tuned = Lasso(alpha=0.21)\n",
    "model_LAS_tuned.fit(Prostate_features, Prostate_target)\n",
    "print(model_LAS_tuned)\n",
    "\n",
    "expected_LAS_tuned = Prostate_target\n",
    "predicted_LAS_tuned = model_LAS_tuned.predict(Prostate_features)\n",
    "\n",
    "print(\"Coef\", model_LAS_tuned.intercept_, model_LAS_tuned.coef_)\n",
    "print(\"MSE\", mean_squared_error(expected_LAS_tuned, predicted_LAS_tuned))\n",
    "print(\"R-squared\", r2_score(expected_LAS_tuned, predicted_LAS_tuned))\n",
    "print(\"MAE:\", mean_absolute_error(expected_LAS_tuned, predicted_LAS_tuned))"
   ]
  },
  {
   "cell_type": "code",
   "execution_count": 35,
   "metadata": {},
   "outputs": [
    {
     "name": "stdout",
     "output_type": "stream",
     "text": [
      "Cross Validation Score for each K [0.69323538 0.13888994 0.44887148 0.07125628 0.47989816]\n"
     ]
    },
    {
     "data": {
      "text/plain": [
       "0.36643024603564084"
      ]
     },
     "execution_count": 35,
     "metadata": {},
     "output_type": "execute_result"
    }
   ],
   "source": [
    "scores = cross_val_score(model_LAS_tuned, features_train, target_train, cv=5)\n",
    "print(\"Cross Validation Score for each K\",scores)\n",
    "scores.mean()  "
   ]
  },
  {
   "cell_type": "markdown",
   "metadata": {},
   "source": [
    "### EN Regression:"
   ]
  },
  {
   "cell_type": "code",
   "execution_count": 36,
   "metadata": {},
   "outputs": [
    {
     "name": "stdout",
     "output_type": "stream",
     "text": [
      "ElasticNet(alpha=0.1, copy_X=True, fit_intercept=True, l1_ratio=0.5,\n",
      "      max_iter=1000, normalize=False, positive=False, precompute=False,\n",
      "      random_state=None, selection='cyclic', tol=0.0001, warm_start=False)\n"
     ]
    }
   ],
   "source": [
    "from sklearn.linear_model import ElasticNet\n",
    "\n",
    "model_EN = ElasticNet(alpha=0.1)\n",
    "model_EN.fit(Prostate_features, Prostate_target)\n",
    "print(model_EN)"
   ]
  },
  {
   "cell_type": "code",
   "execution_count": 37,
   "metadata": {},
   "outputs": [
    {
     "name": "stdout",
     "output_type": "stream",
     "text": [
      "Coef 1.4046104347158266 [ 0.55610267  0.21993986 -0.01063951  0.0868288   0.20365307  0.\n",
      " -0.          0.00600293]\n",
      "MSE 0.5033475294995444\n",
      "R-squared 0.618311414854646\n",
      "MAE: 0.5466221381144234\n"
     ]
    }
   ],
   "source": [
    "expected_EN = Prostate_target\n",
    "predicted_EN = model_EN.predict(Prostate_features)\n",
    "print(\"Coef\", model_EN.intercept_, model_EN.coef_)\n",
    "print(\"MSE\", mean_squared_error(expected_EN, predicted_EN))\n",
    "print(\"R-squared\", r2_score(expected_EN, predicted_EN))\n",
    "print(\"MAE:\", mean_absolute_error(expected_EN, predicted_EN))"
   ]
  },
  {
   "cell_type": "code",
   "execution_count": 38,
   "metadata": {},
   "outputs": [
    {
     "name": "stdout",
     "output_type": "stream",
     "text": [
      "Best {'alpha': 0.38}\n"
     ]
    },
    {
     "name": "stderr",
     "output_type": "stream",
     "text": [
      "C:\\Users\\Tyler\\Anaconda3\\lib\\site-packages\\sklearn\\model_selection\\_search.py:841: DeprecationWarning: The default of the `iid` parameter will change from True to False in version 0.22 and will be removed in 0.24. This will change numeric results when test-set sizes are unequal.\n",
      "  DeprecationWarning)\n"
     ]
    }
   ],
   "source": [
    "range=list(np.arange(0.01,2,0.01))\n",
    "param_grid = dict(alpha=range)\n",
    "\n",
    "grid_search_EN = GridSearchCV(model_EN, param_grid=param_grid,n_jobs=-1,cv=5)\n",
    "grid_search_EN.fit(Prostate_features, Prostate_target)\n",
    "\n",
    "print(\"Best\", grid_search_EN.best_params_)"
   ]
  },
  {
   "cell_type": "code",
   "execution_count": 39,
   "metadata": {},
   "outputs": [
    {
     "name": "stdout",
     "output_type": "stream",
     "text": [
      "ElasticNet(alpha=0.38, copy_X=True, fit_intercept=True, l1_ratio=0.5,\n",
      "      max_iter=1000, normalize=False, positive=False, precompute=False,\n",
      "      random_state=None, selection='cyclic', tol=0.0001, warm_start=False)\n",
      "Coef 1.676227292954372 [ 0.42572169  0.         -0.          0.02596384  0.          0.\n",
      "  0.          0.00922118]\n",
      "MSE 0.6423540543809708\n",
      "R-squared 0.5129027246387301\n",
      "MAE: 0.612498456743951\n"
     ]
    }
   ],
   "source": [
    "model_EN_tuned = ElasticNet(alpha=0.38)\n",
    "model_EN_tuned.fit(Prostate_features, Prostate_target)\n",
    "print(model_EN_tuned)\n",
    "\n",
    "expected_EN_tuned = Prostate_target\n",
    "predicted_EN_tuned = model_EN_tuned.predict(Prostate_features)\n",
    "\n",
    "print(\"Coef\", model_EN_tuned.intercept_, model_EN_tuned.coef_)\n",
    "print(\"MSE\", mean_squared_error(expected_EN_tuned, predicted_EN_tuned))\n",
    "print(\"R-squared\", r2_score(expected_EN_tuned, predicted_EN_tuned))\n",
    "print(\"MAE:\", mean_absolute_error(expected_EN_tuned, predicted_EN_tuned))"
   ]
  },
  {
   "cell_type": "code",
   "execution_count": 40,
   "metadata": {},
   "outputs": [
    {
     "name": "stdout",
     "output_type": "stream",
     "text": [
      "Cross Validation Score for each K [0.67771032 0.09745813 0.43715639 0.02494059 0.46222378]\n"
     ]
    },
    {
     "data": {
      "text/plain": [
       "0.3398978422625413"
      ]
     },
     "execution_count": 40,
     "metadata": {},
     "output_type": "execute_result"
    }
   ],
   "source": [
    "scores = cross_val_score(model_EN_tuned, features_train, target_train, cv=5)\n",
    "print(\"Cross Validation Score for each K\",scores)\n",
    "scores.mean()"
   ]
  },
  {
   "cell_type": "markdown",
   "metadata": {},
   "source": [
    "### Linear Regression:"
   ]
  },
  {
   "cell_type": "code",
   "execution_count": 42,
   "metadata": {},
   "outputs": [
    {
     "name": "stdout",
     "output_type": "stream",
     "text": [
      "LinearRegression(copy_X=True, fit_intercept=True, n_jobs=None, normalize=True)\n"
     ]
    }
   ],
   "source": [
    "from sklearn.linear_model import LinearRegression\n",
    "\n",
    "model_LR = LinearRegression(normalize=True)\n",
    "model_LR.fit(Prostate_features, Prostate_target)\n",
    "print(model_LR)"
   ]
  },
  {
   "cell_type": "code",
   "execution_count": 43,
   "metadata": {},
   "outputs": [
    {
     "name": "stdout",
     "output_type": "stream",
     "text": [
      "Coef: 0.6693990271843557 [ 0.58702288  0.45446064 -0.01963721  0.10705435  0.76615588 -0.10547357\n",
      "  0.04513596  0.00452532]\n",
      "MSE: 0.4552899841679034\n",
      "R-Squared: 0.6547534661376441\n",
      "MAE: 0.5175864588758596\n"
     ]
    }
   ],
   "source": [
    "expected_LR = Prostate_target\n",
    "predicted_LR = model_LR.predict(Prostate_features)\n",
    "\n",
    "print(\"Coef:\", model_LR.intercept_, model_LR.coef_)\n",
    "print(\"MSE:\", mean_squared_error(expected_LR, predicted_LR))\n",
    "print(\"R-Squared:\", r2_score(expected_LR, predicted_LR))\n",
    "print(\"MAE:\", mean_absolute_error(expected_LR, predicted_LR))"
   ]
  },
  {
   "cell_type": "code",
   "execution_count": 44,
   "metadata": {},
   "outputs": [
    {
     "name": "stdout",
     "output_type": "stream",
     "text": [
      "Cross Validation Score for each K [0.67104622 0.3011861  0.61157052 0.35585353 0.67441406]\n"
     ]
    },
    {
     "data": {
      "text/plain": [
       "0.5228140859421305"
      ]
     },
     "execution_count": 44,
     "metadata": {},
     "output_type": "execute_result"
    }
   ],
   "source": [
    "scores_LR = cross_val_score(model_LR, features_train, target_train, cv=5)\n",
    "print(\"Cross Validation Score for each K\",scores_LR)\n",
    "scores_LR.mean() "
   ]
  },
  {
   "cell_type": "markdown",
   "metadata": {},
   "source": [
    "## Final Results & Method Selection"
   ]
  },
  {
   "cell_type": "code",
   "execution_count": 45,
   "metadata": {},
   "outputs": [
    {
     "data": {
      "image/png": "[encoded data removed]",
      "text/plain": [
       "<Figure size 432x288 with 1 Axes>"
      ]
     },
     "metadata": {
      "needs_background": "light"
     },
     "output_type": "display_data"
    }
   ],
   "source": [
    "fig, ax = plt.subplots()\n",
    "plt.plot(model_LR.coef_, label='LR')\n",
    "plt.plot(model_RG.coef_, label='Ridge')\n",
    "plt.plot(model_LAS.coef_, label='Lasso')\n",
    "plt.plot(model_EN.coef_, label='ElasticNet')\n",
    "plt.axhline(linewidth=4, color='r')\n",
    "legend = ax.legend(loc='lower right', shadow=True)\n",
    "plt.show()"
   ]
  },
  {
   "cell_type": "markdown",
   "metadata": {},
   "source": [
    "- LR:\n",
    "\n",
    "MSE: 0.4552899841679034\n",
    "R-Squared: 0.6547534661376441\n",
    "MAE: 0.5175864588758596\n",
    "CV: 0.522814\n",
    "\n",
    "- EN:\n",
    "\n",
    "MSE 0.6423540543809708\n",
    "R-squared 0.5129027246387301\n",
    "MAE: 0.612498456743951\n",
    "CV: 0.339897\n",
    "\n",
    "- LASSO:\n",
    "\n",
    "MSE 0.6192191057358085\n",
    "R-squared 0.5304459632527391\n",
    "MAE: 0.6059526716270308\n",
    "CV: 0.366430\n",
    "\n",
    "- RR:\n",
    "\n",
    "MSE 0.477311530744281\n",
    "R-squared 0.638054520651993\n",
    "MAE: 0.5331955781293747\n",
    "CV: 0.492506"
   ]
  },
  {
   "cell_type": "markdown",
   "metadata": {},
   "source": [
    "Based on the above results of my four models, I would choose to employ linear regression as my chosen method. I was drawn to the high r-squared score of my EN and LASSO since they were accounting for half of the variability in my model (half of my features were deemed as having predictive ability). These models seemed less complex due to the feature selection, however I would not use either because a) their MSE and MAE are over 60% and b) their cross validation scores show low stability when performed on unseen data.\n",
    "\n",
    "My linear regression model performs the best in all four categories - at a glance, I see that it accounts for 65% of the variability in the data and has the highest cross validation score for unseen data. "
   ]
  },
  {
   "cell_type": "code",
   "execution_count": null,
   "metadata": {},
   "outputs": [],
   "source": []
  }
 ],
 "metadata": {
  "kernelspec": {
   "display_name": "Python 3",
   "language": "python",
   "name": "python3"
  },
  "language_info": {
   "codemirror_mode": {
    "name": "ipython",
    "version": 3
   },
   "file_extension": ".py",
   "mimetype": "text/x-python",
   "name": "python",
   "nbconvert_exporter": "python",
   "pygments_lexer": "ipython3",
   "version": "3.7.1"
  }
 },
 "nbformat": 4,
 "nbformat_minor": 2
}
